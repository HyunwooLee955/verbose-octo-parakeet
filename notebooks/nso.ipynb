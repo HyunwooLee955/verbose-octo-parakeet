{
 "cells": [
  {
   "cell_type": "markdown",
   "metadata": {},
   "source": [
    "# Data Quality Control\n",
    "\n",
    "## Load Data"
   ]
  },
  {
   "cell_type": "code",
   "execution_count": null,
   "metadata": {},
   "outputs": [],
   "source": [
    "import csv\n",
    "from pathlib import Path"
   ]
  },
  {
   "cell_type": "code",
   "execution_count": null,
   "metadata": {},
   "outputs": [
    {
     "name": "stdout",
     "output_type": "stream",
     "text": [
      "{'time': '1968-02-27 09:30', 'latitude': '36.0767', 'longitude': '129.615', 'depth': '0', 'temperature': '8.3', 'salinity': '34.51', 'oxygen': '6.22', 'flag': '1'}\n"
     ]
    }
   ],
   "source": [
    "with open(Path.home() / \"Codes\" / \"example\"/ \"data\" / \"nso_1968.csv\") as f:\n",
    "    reader = csv.DictReader(\n",
    "        f,\n",
    "        delimiter=\"\\t\",\n",
    "    )\n",
    "\n",
    "    for row in reader:\n",
    "        # Only print relevant fields\n",
    "        print({\n",
    "            \"time\": row[\"Date(YYYY-MM-DD)\"],\n",
    "            \"latitude\": row[\"Latitude\"],\n",
    "            \"longitude\": row[\"Longitude\"],\n",
    "            \"depth\": row[\"Depth(m)\"],\n",
    "            \"temperature\": row[\"Water Temperature(℃)\"],\n",
    "            \"salinity\": row[\"Salinity(psu)\"],\n",
    "            \"oxygen\": row[\"DO(ml/L)\"],\n",
    "            \"flag\": row[\"QC Level\"],\n",
    "        })\n",
    "        break  # Only print the first row\n"
   ]
  },
  {
   "cell_type": "code",
   "execution_count": null,
   "metadata": {},
   "outputs": [],
   "source": []
  }
 ],
 "metadata": {
  "kernelspec": {
   "display_name": ".venv",
   "language": "python",
   "name": "python3"
  },
  "language_info": {
   "codemirror_mode": {
    "name": "ipython",
    "version": 3
   },
   "file_extension": ".py",
   "mimetype": "text/x-python",
   "name": "python",
   "nbconvert_exporter": "python",
   "pygments_lexer": "ipython3",
   "version": "3.13.2"
  }
 },
 "nbformat": 4,
 "nbformat_minor": 2
}
